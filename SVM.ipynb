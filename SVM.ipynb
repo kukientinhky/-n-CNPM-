{
  "nbformat": 4,
  "nbformat_minor": 0,
  "metadata": {
    "colab": {
      "provenance": [],
      "authorship_tag": "ABX9TyMCshLNvbtJ54UVoYUpMsQD",
      "include_colab_link": true
    },
    "kernelspec": {
      "name": "python3",
      "display_name": "Python 3"
    },
    "language_info": {
      "name": "python"
    }
  },
  "cells": [
    {
      "cell_type": "markdown",
      "metadata": {
        "id": "view-in-github",
        "colab_type": "text"
      },
      "source": [
        "<a href=\"https://colab.research.google.com/github/kukientinhky/-n-CNPM-/blob/master/SVM.ipynb\" target=\"_parent\"><img src=\"https://colab.research.google.com/assets/colab-badge.svg\" alt=\"Open In Colab\"/></a>"
      ]
    },
    {
      "cell_type": "code",
      "execution_count": 49,
      "metadata": {
        "id": "3F4NF0BMwxKF"
      },
      "outputs": [],
      "source": [
        "import numpy as np"
      ]
    },
    {
      "cell_type": "code",
      "source": [
        "class linearSVM:\n",
        "  def __init__(self, lr = 0.0001, lambda_param = 0.01, n_iters = 1):\n",
        "    self.lr = lr\n",
        "    self.lambda_param = lambda_param\n",
        "    self.n_iters = n_iters\n",
        "    self.w = None\n",
        "    self.b = None\n",
        "  def fit(self, X, y):\n",
        "    n_samples, n_features = X.shape\n",
        "    yPre = np.where(y <= 0, -1, 1)\n",
        "\n",
        "    self.w = np.zeros(n_features)\n",
        "    self.b = 0\n",
        "    for _ in range(self.n_iters):\n",
        "      for indX, x_i in enumerate(X):\n",
        "        print(x_i)\n",
        "        print(yPre[indX])\n",
        "        print(np.dot(x_i, yPre[indX]))\n",
        "        if (yPre[indX] * (np.dot(x_i, self.w) + self.b) >= 1):\n",
        "          self.w -= self.lr * (2 * self.lambda_param * self.w)\n",
        "          self.b -= self.lr * (2 * self.lambda_param * self.b)\n",
        "        else:\n",
        "          self.w -= self.lr * (2 * self.lambda_param * self.w - np.dot(x_i, yPre[indX]))\n",
        "          self.b -= self.lr * yPre[indX]\n",
        "  def predict(self, X):\n",
        "    return np.sign(np.dot(X, self.w) + self.b)"
      ],
      "metadata": {
        "id": "8R1JXGXSxld8"
      },
      "execution_count": 50,
      "outputs": []
    },
    {
      "cell_type": "code",
      "source": [
        "X = np.array([[0, 0], [1, 1], [1, 0], [0, 1]])\n",
        "y = np.array([1, -1, 1, -1])\n",
        "X_test = np.array([[2, 2], [-2, -2]])\n",
        "svm = linearSVM()\n",
        "svm.fit(X, y)\n",
        "print(svm.w)\n",
        "predictions = svm.predict(X_test)\n",
        "print(\"Predictions:\", predictions)"
      ],
      "metadata": {
        "colab": {
          "base_uri": "https://localhost:8080/"
        },
        "id": "gijBUyzz3gIZ",
        "outputId": "eac847de-dfc9-4773-b9e7-c1de70b213be"
      },
      "execution_count": 51,
      "outputs": [
        {
          "output_type": "stream",
          "name": "stdout",
          "text": [
            "[0 0]\n",
            "1\n",
            "[0 0]\n",
            "[1 1]\n",
            "-1\n",
            "[-1 -1]\n",
            "[1 0]\n",
            "1\n",
            "[1 0]\n",
            "[0 1]\n",
            "-1\n",
            "[ 0 -1]\n",
            "[ 1.999996e-10 -1.999996e-04]\n",
            "Predictions: [-1.  1.]\n"
          ]
        }
      ]
    }
  ]
}